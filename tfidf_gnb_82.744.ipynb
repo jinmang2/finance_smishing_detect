{
 "cells": [
  {
   "cell_type": "code",
   "execution_count": 1,
   "metadata": {},
   "outputs": [],
   "source": [
    "import numpy as np\n",
    "import pandas as pd\n",
    "import matplotlib.pyplot as plt\n",
    "%matplotlib inline"
   ]
  },
  {
   "cell_type": "code",
   "execution_count": 33,
   "metadata": {},
   "outputs": [],
   "source": [
    "train = pd.read_csv('./filedown (2)/train.csv')\n",
    "test = pd.read_csv('./filedown (2)/public_test.csv')"
   ]
  },
  {
   "cell_type": "code",
   "execution_count": 3,
   "metadata": {},
   "outputs": [
    {
     "data": {
      "text/html": [
       "<div>\n",
       "<style scoped>\n",
       "    .dataframe tbody tr th:only-of-type {\n",
       "        vertical-align: middle;\n",
       "    }\n",
       "\n",
       "    .dataframe tbody tr th {\n",
       "        vertical-align: top;\n",
       "    }\n",
       "\n",
       "    .dataframe thead th {\n",
       "        text-align: right;\n",
       "    }\n",
       "</style>\n",
       "<table border=\"1\" class=\"dataframe\">\n",
       "  <thead>\n",
       "    <tr style=\"text-align: right;\">\n",
       "      <th></th>\n",
       "      <th>id</th>\n",
       "      <th>year_month</th>\n",
       "      <th>text</th>\n",
       "      <th>smishing</th>\n",
       "    </tr>\n",
       "  </thead>\n",
       "  <tbody>\n",
       "    <tr>\n",
       "      <th>0</th>\n",
       "      <td>0</td>\n",
       "      <td>2017-01</td>\n",
       "      <td>XXX은행성산XXX팀장입니다.행복한주말되세요</td>\n",
       "      <td>0</td>\n",
       "    </tr>\n",
       "    <tr>\n",
       "      <th>1</th>\n",
       "      <td>1</td>\n",
       "      <td>2017-01</td>\n",
       "      <td>오늘도많이웃으시는하루시작하세요XXX은행 진월동VIP라운지 XXX올림</td>\n",
       "      <td>0</td>\n",
       "    </tr>\n",
       "    <tr>\n",
       "      <th>2</th>\n",
       "      <td>2</td>\n",
       "      <td>2017-01</td>\n",
       "      <td>안녕하십니까 고객님. XXX은행입니다.금일 납부하셔야 할 금액은 153600원 입니...</td>\n",
       "      <td>0</td>\n",
       "    </tr>\n",
       "    <tr>\n",
       "      <th>3</th>\n",
       "      <td>4</td>\n",
       "      <td>2017-01</td>\n",
       "      <td>XXX 고객님안녕하세요XXX은행 XXX지점입니다지난 한 해 동안 저희 XXX지점에 ...</td>\n",
       "      <td>0</td>\n",
       "    </tr>\n",
       "    <tr>\n",
       "      <th>4</th>\n",
       "      <td>5</td>\n",
       "      <td>2017-01</td>\n",
       "      <td>1월은 새로움이 가득XXX입니다.올 한해 더 많이행복한 한해되시길바랍니다</td>\n",
       "      <td>0</td>\n",
       "    </tr>\n",
       "  </tbody>\n",
       "</table>\n",
       "</div>"
      ],
      "text/plain": [
       "   id year_month                                               text  smishing\n",
       "0   0    2017-01                           XXX은행성산XXX팀장입니다.행복한주말되세요         0\n",
       "1   1    2017-01              오늘도많이웃으시는하루시작하세요XXX은행 진월동VIP라운지 XXX올림         0\n",
       "2   2    2017-01  안녕하십니까 고객님. XXX은행입니다.금일 납부하셔야 할 금액은 153600원 입니...         0\n",
       "3   4    2017-01  XXX 고객님안녕하세요XXX은행 XXX지점입니다지난 한 해 동안 저희 XXX지점에 ...         0\n",
       "4   5    2017-01           1월은 새로움이 가득XXX입니다.올 한해 더 많이행복한 한해되시길바랍니다         0"
      ]
     },
     "execution_count": 3,
     "metadata": {},
     "output_type": "execute_result"
    }
   ],
   "source": [
    "train.head()"
   ]
  },
  {
   "cell_type": "code",
   "execution_count": 4,
   "metadata": {},
   "outputs": [
    {
     "data": {
      "text/plain": [
       "(295945, 4)"
      ]
     },
     "execution_count": 4,
     "metadata": {},
     "output_type": "execute_result"
    }
   ],
   "source": [
    "train.shape"
   ]
  },
  {
   "cell_type": "code",
   "execution_count": 5,
   "metadata": {},
   "outputs": [
    {
     "data": {
      "text/plain": [
       "0    277242\n",
       "1     18703\n",
       "Name: smishing, dtype: int64"
      ]
     },
     "execution_count": 5,
     "metadata": {},
     "output_type": "execute_result"
    }
   ],
   "source": [
    "train.smishing.value_counts()"
   ]
  },
  {
   "cell_type": "markdown",
   "metadata": {},
   "source": [
    "# spall checking by pusan\n",
    "- 시간 상의 문제로 적용 X"
   ]
  },
  {
   "cell_type": "code",
   "execution_count": 6,
   "metadata": {},
   "outputs": [],
   "source": [
    "import re\n",
    "text = train.text.map(lambda x : re.sub('[^ㄱ-ㅎㅏ-ㅣ가-힣]', ' ', x))"
   ]
  },
  {
   "cell_type": "code",
   "execution_count": 7,
   "metadata": {},
   "outputs": [
    {
     "name": "stdout",
     "output_type": "stream",
     "text": [
      "Loading JIT Compiled ChatSpace Model\n"
     ]
    }
   ],
   "source": [
    "from chatspace import ChatSpace\n",
    "\n",
    "spacer = ChatSpace()"
   ]
  },
  {
   "cell_type": "code",
   "execution_count": 19,
   "metadata": {},
   "outputs": [],
   "source": [
    "from selenium import webdriver\n",
    "from bs4 import BeautifulSoup\n",
    "from copy import copy\n",
    "import time\n",
    "\n",
    "def spallcheck_using_pusan(reviews, num=10):\n",
    "    res, is_transform, error = [], [], False\n",
    "    def spallcheck(driver, text):\n",
    "        checked_text = copy(text)\n",
    "        driver.find_element_by_name('text1').send_keys(text)\n",
    "        driver.find_element_by_id('btnCheck').click()\n",
    "        html = driver.page_source\n",
    "        soup = BeautifulSoup(html, 'html.parser')\n",
    "        is_valid = soup.find('div', \n",
    "                 {\"class\":\"divScrollbarStyle\", 'id':'divLeft1'})\n",
    "        if is_valid:\n",
    "            announceText = soup.find('td', \n",
    "                         {'id':'pageAnnounce'}).text\n",
    "            t = is_valid.td\n",
    "            rule = {f.next.next_sibling : f.span.text for f in t.find_all('font')}\n",
    "            if announceText:\n",
    "                for i in range(1, int(announceText.split(' ')[1].split('페이지')[0])):\n",
    "                    driver.find_element_by_id('nextBtn').click()\n",
    "                    t = soup.find('div', {\"class\":\"divScrollbarStyle\", 'id':'divLeft1'}).td\n",
    "                    for f in t.find_all('font'):\n",
    "                        rule[f.next.next_sibling] = f.span.text\n",
    "            for i,j in rule.items():\n",
    "                checked_text = checked_text.replace(i, j)     \n",
    "            transform = True\n",
    "        else:\n",
    "            transform = False\n",
    "        driver.find_element_by_id('btnRenew2').click()\n",
    "        return checked_text, transform\n",
    "    options = webdriver.ChromeOptions()\n",
    "    options.add_argument('headless')\n",
    "    options.add_argument('window-size=1920x1080')\n",
    "    options.add_argument(\"disable-gpu\")\n",
    "    # 혹은 options.add_argument(\"--disable-gpu\")\n",
    "    options.add_argument(\"user-agent=Mozilla/5.0 (Macintosh; Intel Mac OS X 10_12_6) \"\n",
    "                         \"AppleWebKit/537.36 (KHTML, like Gecko) Chrome/61.0.3163.100 Safari/537.36\")\n",
    "    options.add_argument(\"lang=ko_KR\") # 한국어!\n",
    "    driver = webdriver.Chrome(\n",
    "        'C:/chromedriver.exe', options=options)\n",
    "    print('---** selenium으로 web에 접근 중 ... 3초 소요됩니다... **---')\n",
    "    driver.implicitly_wait(3)\n",
    "    print('Connected. spaller.cs.pusan.ac.kr/에 접속합니다.')\n",
    "    driver.get('about:blank')\n",
    "    driver.execute_script(\"Object.defineProperty(navigator, 'plugins', {get: function() {return[1, 2, 3, 4, 5];},});\")\n",
    "    driver.get('https://speller.cs.pusan.ac.kr/')\n",
    "    print('text 분석을 실시합니다. {}개 text마다 결과를 기록합니다.'.format(num))\n",
    "    start, semi_start = time.time(), time.time()\n",
    "    for ix, text in enumerate(reviews):\n",
    "        if ix % num == 0:\n",
    "            if time.time() - start >= 60:\n",
    "                a = (time.time() - start) / 3600\n",
    "                b = 'hours'\n",
    "            else:\n",
    "                a = (time.time() - start) / 60\n",
    "                b = 'mins'\n",
    "            print(ix, '\\t\\tcollapse {:.2f} mins\\t\\tcumulative time is {:.2f} {:s}'.format(\n",
    "                (time.time() - semi_start) / 60, a, b))\n",
    "            semi_start = time.time()\n",
    "        try:\n",
    "            checked_text, transform = spallcheck(driver, text)\n",
    "        except:\n",
    "            print('Error: 에러 발생!')\n",
    "            error = True\n",
    "            return res, is_transform, error\n",
    "        res.append(checked_text)\n",
    "        is_transform.append(transform)\n",
    "    driver.close()\n",
    "    return res, is_transform, error"
   ]
  },
  {
   "cell_type": "code",
   "execution_count": 20,
   "metadata": {},
   "outputs": [
    {
     "name": "stdout",
     "output_type": "stream",
     "text": [
      "---** selenium으로 web에 접근 중 ... 3초 소요됩니다... **---\n",
      "Connected. spaller.cs.pusan.ac.kr/에 접속합니다.\n",
      "text 분석을 실시합니다. 100개 text마다 결과를 기록합니다.\n",
      "0 \t\tcollapse 0.00 mins\t\tcumulative time is 0.00 mins\n",
      "100 \t\tcollapse 4.15 mins\t\tcumulative time is 0.07 hours\n",
      "Error: 에러 발생!\n"
     ]
    }
   ],
   "source": [
    "res, is_transform, error = spallcheck_using_pusan(\n",
    "    train['text'].values, 100)"
   ]
  },
  {
   "cell_type": "code",
   "execution_count": 21,
   "metadata": {},
   "outputs": [
    {
     "data": {
      "text/plain": [
       "(168, 168)"
      ]
     },
     "execution_count": 21,
     "metadata": {},
     "output_type": "execute_result"
    }
   ],
   "source": [
    "len(res), len(is_transform)"
   ]
  },
  {
   "cell_type": "code",
   "execution_count": 22,
   "metadata": {},
   "outputs": [
    {
     "data": {
      "text/plain": [
       "'XXX 고객님 XXX 은행 성우금융센터지점 VIP 팀장 XXX입니다. 저는 이번에 송우 종합금융 센터 지점을 떠나 만X XX 점으로 이동하게 되었습니다. 항상 성우금융센터지점을 사랑해 주신 고객님께 깊이 감사드립니다. 이별은 만남의 시작이라는 말이 있듯이 언젠가는 꼭 또 다른 모습으로 만날 것이라 기대하며 그 만남을 위해 열심히 나아가겠습니다. 이렇게 문자를 통해 인사드리게 된 점 양해해 주시기 바 XXX 고객님의 가정에 항상 건강과 행운이 함께하기를 기원하겠습니다.XXX 은행송우 종합금융 센터XXX올림'"
      ]
     },
     "execution_count": 22,
     "metadata": {},
     "output_type": "execute_result"
    }
   ],
   "source": [
    "res[-1]"
   ]
  },
  {
   "cell_type": "code",
   "execution_count": 23,
   "metadata": {},
   "outputs": [
    {
     "data": {
      "text/plain": [
       "'XXX 고객님안녕하세요. XXX은행 XXX지점 XXX입니다. 제가 인사이동으로 16일부터 양재역 종합금융센터에서 근무하게 되었습니다.    XXX지점에서 근무하면서 생겼던 일들을 생각하면 아련하게 추억이 될 것을 생각하니 아쉽고 서운한 마음이 가득합니다.  찾아뵙고 인사를 드려야 하나 형편상 그러지 못한 점 널리 양해부탁드립니다.  저에 대한 좋은 기억을 갖어 주시길 부탁드립니다. 항상 건강하시고 가정에 축복이 많으시길 기원합니다.'"
      ]
     },
     "execution_count": 23,
     "metadata": {},
     "output_type": "execute_result"
    }
   ],
   "source": [
    "train.loc[247, 'text']"
   ]
  },
  {
   "cell_type": "markdown",
   "metadata": {},
   "source": [
    "# Baseline"
   ]
  },
  {
   "cell_type": "code",
   "execution_count": 24,
   "metadata": {},
   "outputs": [
    {
     "data": {
      "text/plain": [
       "0.9310271079505962"
      ]
     },
     "execution_count": 24,
     "metadata": {},
     "output_type": "execute_result"
    }
   ],
   "source": [
    "train[train['smishing'] == 1]['text'].map(\n",
    "    lambda x : '(광고)' in x).sum() / train[train['smishing'] == 1].shape[0]"
   ]
  },
  {
   "cell_type": "code",
   "execution_count": 25,
   "metadata": {},
   "outputs": [
    {
     "data": {
      "text/plain": [
       "0.05850123718628491"
      ]
     },
     "execution_count": 25,
     "metadata": {},
     "output_type": "execute_result"
    }
   ],
   "source": [
    "train[train['smishing'] != 1]['text'].map(\n",
    "    lambda x : '(광고)' in x).sum() / train[train['smishing'] != 1].shape[0]"
   ]
  },
  {
   "cell_type": "markdown",
   "metadata": {},
   "source": [
    "#### naive hypothesis\n",
    "(광고)라는 단어가 들어가면 smishing일 것이다"
   ]
  },
  {
   "cell_type": "code",
   "execution_count": 28,
   "metadata": {},
   "outputs": [],
   "source": [
    "submission = pd.DataFrame(test['id'])\n",
    "submission['smishing'] = test['text'].map(lambda x : 1 if '(광고)' in x else .05)\n",
    "submission.to_csv('submission_baseline.csv', index=False)"
   ]
  },
  {
   "cell_type": "code",
   "execution_count": 34,
   "metadata": {},
   "outputs": [],
   "source": [
    "submission = pd.read_csv('submission_제출양식.csv')\n",
    "submission['smishing'] = test['text'].map(\n",
    "    lambda x : min(1, np.random.normal(99, 0.1)) \n",
    "    if '(광고)' in x \n",
    "    else max(0, np.random.normal(0.05, 0.03))).values\n",
    "submission.to_csv('submission_baseline2.csv', index=False)"
   ]
  },
  {
   "cell_type": "markdown",
   "metadata": {},
   "source": [
    "결과는 81%"
   ]
  },
  {
   "cell_type": "markdown",
   "metadata": {},
   "source": [
    "# New"
   ]
  },
  {
   "cell_type": "code",
   "execution_count": 35,
   "metadata": {},
   "outputs": [],
   "source": [
    "from sklearn.feature_extraction.text import TfidfVectorizer, CountVectorizer\n",
    "\n",
    "tfidf = TfidfVectorizer()\n",
    "cvect = CountVectorizer()"
   ]
  },
  {
   "cell_type": "code",
   "execution_count": 36,
   "metadata": {},
   "outputs": [
    {
     "data": {
      "text/plain": [
       "0    277242\n",
       "1     18703\n",
       "Name: smishing, dtype: int64"
      ]
     },
     "execution_count": 36,
     "metadata": {},
     "output_type": "execute_result"
    }
   ],
   "source": [
    "train.smishing.value_counts()"
   ]
  },
  {
   "cell_type": "code",
   "execution_count": 37,
   "metadata": {},
   "outputs": [],
   "source": [
    "df = pd.concat((train[train.smishing == 0].sample(18000), \n",
    "                train[train.smishing == 1].sample(18000)))"
   ]
  },
  {
   "cell_type": "code",
   "execution_count": 40,
   "metadata": {},
   "outputs": [
    {
     "data": {
      "text/plain": [
       "1    18000\n",
       "0    18000\n",
       "Name: smishing, dtype: int64"
      ]
     },
     "execution_count": 40,
     "metadata": {},
     "output_type": "execute_result"
    }
   ],
   "source": [
    "df.smishing.value_counts()"
   ]
  },
  {
   "cell_type": "code",
   "execution_count": 41,
   "metadata": {},
   "outputs": [],
   "source": [
    "from sklearn.model_selection import train_test_split\n",
    "\n",
    "X_train, X_test, y_train, y_test = train_test_split(\n",
    "    train.text, train.smishing, shuffle=True, \n",
    "    stratify=train.smishing)"
   ]
  },
  {
   "cell_type": "code",
   "execution_count": 42,
   "metadata": {},
   "outputs": [],
   "source": [
    "X_train = cvect.fit_transform(X_train)\n",
    "X_test = cvect.transform(X_test)"
   ]
  },
  {
   "cell_type": "code",
   "execution_count": 43,
   "metadata": {},
   "outputs": [],
   "source": [
    "from sklearn.naive_bayes import MultinomialNB\n",
    "\n",
    "gnb_clf = MultinomialNB()"
   ]
  },
  {
   "cell_type": "code",
   "execution_count": 44,
   "metadata": {},
   "outputs": [
    {
     "data": {
      "text/plain": [
       "MultinomialNB(alpha=1.0, class_prior=None, fit_prior=True)"
      ]
     },
     "execution_count": 44,
     "metadata": {},
     "output_type": "execute_result"
    }
   ],
   "source": [
    "gnb_clf.fit(X_train, y_train)"
   ]
  },
  {
   "cell_type": "code",
   "execution_count": 45,
   "metadata": {},
   "outputs": [
    {
     "name": "stdout",
     "output_type": "stream",
     "text": [
      "0.9997386893015796\n",
      "0.9979332953249715\n",
      "0.9990627491313326\n"
     ]
    }
   ],
   "source": [
    "from sklearn.metrics import accuracy_score, f1_score, roc_auc_score\n",
    "\n",
    "print(accuracy_score(y_train.values, gnb_clf.predict(X_train)))\n",
    "print(f1_score(y_train.values, gnb_clf.predict(X_train)))\n",
    "print(roc_auc_score(y_train.values, gnb_clf.predict(X_train)))"
   ]
  },
  {
   "cell_type": "code",
   "execution_count": 46,
   "metadata": {},
   "outputs": [
    {
     "name": "stdout",
     "output_type": "stream",
     "text": [
      "0.9997161663535485\n",
      "0.9977547311023202\n",
      "0.9988513575248215\n"
     ]
    }
   ],
   "source": [
    "print(accuracy_score(y_test.values, gnb_clf.predict(X_test)))\n",
    "print(f1_score(y_test.values, gnb_clf.predict(X_test)))\n",
    "print(roc_auc_score(y_test.values, gnb_clf.predict(X_test)))"
   ]
  },
  {
   "cell_type": "code",
   "execution_count": 47,
   "metadata": {},
   "outputs": [],
   "source": [
    "testX = cvect.transform(test.text)"
   ]
  },
  {
   "cell_type": "code",
   "execution_count": 48,
   "metadata": {},
   "outputs": [],
   "source": [
    "submission['smishing'] = gnb_clf.predict_proba(testX)[:,1]\n",
    "submission.to_csv('tfidf_gnb5.csv', index=False)"
   ]
  },
  {
   "cell_type": "code",
   "execution_count": 49,
   "metadata": {},
   "outputs": [
    {
     "data": {
      "text/html": [
       "<div>\n",
       "<style scoped>\n",
       "    .dataframe tbody tr th:only-of-type {\n",
       "        vertical-align: middle;\n",
       "    }\n",
       "\n",
       "    .dataframe tbody tr th {\n",
       "        vertical-align: top;\n",
       "    }\n",
       "\n",
       "    .dataframe thead th {\n",
       "        text-align: right;\n",
       "    }\n",
       "</style>\n",
       "<table border=\"1\" class=\"dataframe\">\n",
       "  <thead>\n",
       "    <tr style=\"text-align: right;\">\n",
       "      <th></th>\n",
       "      <th>id</th>\n",
       "      <th>smishing</th>\n",
       "    </tr>\n",
       "  </thead>\n",
       "  <tbody>\n",
       "    <tr>\n",
       "      <th>0</th>\n",
       "      <td>340000</td>\n",
       "      <td>3.321947e-124</td>\n",
       "    </tr>\n",
       "    <tr>\n",
       "      <th>1</th>\n",
       "      <td>340001</td>\n",
       "      <td>1.852452e-56</td>\n",
       "    </tr>\n",
       "    <tr>\n",
       "      <th>2</th>\n",
       "      <td>340002</td>\n",
       "      <td>3.652442e-24</td>\n",
       "    </tr>\n",
       "    <tr>\n",
       "      <th>3</th>\n",
       "      <td>340003</td>\n",
       "      <td>2.325928e-16</td>\n",
       "    </tr>\n",
       "    <tr>\n",
       "      <th>4</th>\n",
       "      <td>340004</td>\n",
       "      <td>1.593863e-46</td>\n",
       "    </tr>\n",
       "  </tbody>\n",
       "</table>\n",
       "</div>"
      ],
      "text/plain": [
       "       id       smishing\n",
       "0  340000  3.321947e-124\n",
       "1  340001   1.852452e-56\n",
       "2  340002   3.652442e-24\n",
       "3  340003   2.325928e-16\n",
       "4  340004   1.593863e-46"
      ]
     },
     "execution_count": 49,
     "metadata": {},
     "output_type": "execute_result"
    }
   ],
   "source": [
    "submission.head()"
   ]
  },
  {
   "cell_type": "markdown",
   "metadata": {},
   "source": [
    "결과는 82.744%"
   ]
  }
 ],
 "metadata": {
  "kernelspec": {
   "display_name": "basic",
   "language": "python",
   "name": "basic"
  },
  "language_info": {
   "codemirror_mode": {
    "name": "ipython",
    "version": 3
   },
   "file_extension": ".py",
   "mimetype": "text/x-python",
   "name": "python",
   "nbconvert_exporter": "python",
   "pygments_lexer": "ipython3",
   "version": "3.6.9"
  }
 },
 "nbformat": 4,
 "nbformat_minor": 2
}
